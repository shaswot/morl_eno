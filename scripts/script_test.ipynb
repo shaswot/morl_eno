{
 "cells": [
  {
   "cell_type": "code",
   "execution_count": 1,
   "id": "52ab49d0-bb8d-4cf8-8866-f4ee9170791b",
   "metadata": {},
   "outputs": [],
   "source": [
    "env_type = \"sense\"\n",
    "env_params = {\n",
    "    \"env_name\":\"t24_random\",\n",
    "    \"location\": \"tokyo\" ,\n",
    "    \"timeslots_per_day\": 24,\n",
    "    \"prediction_horizon\": 10,\n",
    "    \"offset\": 0.5,\n",
    "    \"REQ_TYPE\": \"random\",\n",
    "    \"henergy_mean\": 0.13904705134356052 # 10yr hmean for tokyo \n",
    "    }\n",
    "\n",
    "exp_params = {\n",
    "    \"START_YEAR\": 1995,\n",
    "    \"NO_OF_YEARS\": 24\n",
    "    }\n",
    "\n",
    "env_params_str = str(env_params)\n",
    "exp_params_str = str(exp_params)"
   ]
  },
  {
   "cell_type": "code",
   "execution_count": 2,
   "id": "804bdb88-9a5d-4b94-a90b-4c418076010d",
   "metadata": {},
   "outputs": [],
   "source": [
    "# agent = \"nonlinear_mean\"\n",
    "# agent_params = {\"agent_name\":\"rsp_55\",\n",
    "#           \"rsp\":0.55}\n",
    "\n",
    "# agent = \"bangbang\"\n",
    "# agent_params = {\n",
    "#     \"agent_name\":\"test\",\n",
    "#     \"threshold\": 0.95,\n",
    "#     \"val_hi\": 0.9,\n",
    "#     \"val_lo\": 0.1\n",
    "#     }\n",
    "\n",
    "# agent = \"schmitt\"\n",
    "# agent_params = {\"agent_name\":\"test\",\n",
    "#             \"threshold_hi\": 0.95,\n",
    "#           \"threshold_lo\": 0.20,\n",
    "#           \"val_hi\": 0.9,\n",
    "#           \"val_lo\": 0.1}"
   ]
  },
  {
   "cell_type": "code",
   "execution_count": 3,
   "id": "d5d4d430-06db-472b-a1b7-de379f81a630",
   "metadata": {},
   "outputs": [],
   "source": [
    "# Get seedlist\n",
    "file = '../seedfile.dat'\n",
    "with open(file) as f:\n",
    "    seed_list = []\n",
    "    for line in f: # read rest of lines\n",
    "        seed_list.append([int(x) for x in line.split()][0])"
   ]
  },
  {
   "cell_type": "code",
   "execution_count": 4,
   "id": "afa5b36b-6ee0-4dd2-aa5b-31dc9ba9ecb0",
   "metadata": {},
   "outputs": [],
   "source": [
    "scriptname = \"env_agent_seed.py\""
   ]
  },
  {
   "cell_type": "code",
   "execution_count": null,
   "id": "eaa04290-af15-45ad-bba9-e0a248adeeda",
   "metadata": {},
   "outputs": [],
   "source": [
    "agent_type = \"nonlinear\"\n",
    "agent_params = {\n",
    "        \"agent_name\":\"dummy\",\n",
    "        \"rsp\":0.0001\n",
    "            }\n",
    "rsp_list = [0.1, 0.2, 0.3, 0.4, 0.5, 0.6, 0.7, 0.8, 0.9, 0.95, 0.98]\n",
    "\n",
    "for rsp in rsp_list:\n",
    "    # set agent name and parameter\n",
    "    agent_params[\"agent_name\"] = \"rsp\" + str(int(conformity*100))\n",
    "    agent_params[\"rsp\"] = rsp\n",
    "    agent_params_str = str(agent_params)\n",
    "    \n",
    "    env_tag = env_type + '_' + env_params[\"env_name\"]\n",
    "    agent_tag = agent_type + '_' + agent_params[\"agent_name\"]\n",
    "    experiment_type_tag = env_tag  + \"-\" + agent_tag\n",
    "    log_filename = experiment_type_tag\n",
    "\n",
    "    for seed in seed_list:\n",
    "        !python \"$scriptname\" \\\n",
    "        --env=\"$env_type\" \\\n",
    "        --env_param=\"$env_params_str\" \\\n",
    "        --agent=\"$agent_type\" \\\n",
    "        --agent_params=\"$agent_params_str\" \\\n",
    "        --exp_params=\"$exp_params_str\" \\\n",
    "        --seed=\"$seed\" >> ../logfiles/\"$log_filename\" 2>&1 ;"
   ]
  },
  {
   "cell_type": "code",
   "execution_count": null,
   "id": "e0b7b99f-1267-4e39-a71e-e1103b9eddfc",
   "metadata": {},
   "outputs": [],
   "source": [
    "# agent_type = \"constant\"\n",
    "# agent_params = {\n",
    "#         \"agent_name\":\"dummy\",\n",
    "#         \"conformity\":0.0001\n",
    "#             }\n",
    "# conformity_list = [0.1, 0.2, 0.3, 0.4, 0.5, 0.6, 0.7, 0.8, 0.9, 0.95, 0.98]\n",
    "\n",
    "# for conformity in conformity_list:\n",
    "#     # set agent name and parameter\n",
    "#     agent_params[\"agent_name\"] = \"c\" + str(int(conformity*100))\n",
    "#     agent_params[\"conformity\"] = conformity\n",
    "#     agent_params_str = str(agent_params)\n",
    "    \n",
    "#     env_tag = env_type + '_' + env_params[\"env_name\"]\n",
    "#     agent_tag = agent_type + '_' + agent_params[\"agent_name\"]\n",
    "#     experiment_type_tag = env_tag  + \"-\" + agent_tag\n",
    "#     log_filename = experiment_type_tag\n",
    "\n",
    "#     for seed in seed_list:\n",
    "#         !python \"$scriptname\" \\\n",
    "#         --env=\"$env_type\" \\\n",
    "#         --env_param=\"$env_params_str\" \\\n",
    "#         --agent=\"$agent_type\" \\\n",
    "#         --agent_params=\"$agent_params_str\" \\\n",
    "#         --exp_params=\"$exp_params_str\" \\\n",
    "#         --seed=\"$seed\" >> ../logfiles/\"$log_filename\" 2>&1 ;"
   ]
  }
 ],
 "metadata": {
  "kernelspec": {
   "display_name": "Python 3 (ipykernel)",
   "language": "python",
   "name": "python3"
  },
  "language_info": {
   "codemirror_mode": {
    "name": "ipython",
    "version": 3
   },
   "file_extension": ".py",
   "mimetype": "text/x-python",
   "name": "python",
   "nbconvert_exporter": "python",
   "pygments_lexer": "ipython3",
   "version": "3.7.10"
  }
 },
 "nbformat": 4,
 "nbformat_minor": 5
}
