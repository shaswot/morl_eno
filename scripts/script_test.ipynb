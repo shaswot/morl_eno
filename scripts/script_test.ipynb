{
 "cells": [
  {
   "cell_type": "code",
   "execution_count": 1,
   "id": "2591b19f-842e-4bb1-95b7-0d1c5874a986",
   "metadata": {
    "jupyter": {
     "source_hidden": true
    },
    "tags": []
   },
   "outputs": [],
   "source": [
    "import sys\n",
    "import pathlib\n",
    "module_path = str(pathlib.Path.cwd().parents[0] / \"py\")\n",
    "if module_path not in sys.path:\n",
    "    sys.path.append(module_path)\n",
    "    \n",
    "import common.utils"
   ]
  },
  {
   "cell_type": "code",
   "execution_count": 2,
   "id": "52ab49d0-bb8d-4cf8-8866-f4ee9170791b",
   "metadata": {
    "jupyter": {
     "source_hidden": true
    },
    "tags": []
   },
   "outputs": [],
   "source": [
    "env_type = \"sense\"\n",
    "env_params = {\n",
    "    \"env_name\":\"t24_random\",\n",
    "    \"location\": \"tokyo\" ,\n",
    "    \"timeslots_per_day\": 24,\n",
    "    \"prediction_horizon\": 10,\n",
    "    \"offset\": 0.5,\n",
    "    \"REQ_TYPE\": \"random\",\n",
    "    \"henergy_mean\": 0.13904705134356052 # 10yr hmean for tokyo \n",
    "    }\n",
    "\n",
    "exp_params = {\n",
    "    \"START_YEAR\": 1995,\n",
    "    \"NO_OF_YEARS\": 24\n",
    "    }\n",
    "\n",
    "env_params_str = str(env_params)\n",
    "exp_params_str = str(exp_params)"
   ]
  },
  {
   "cell_type": "code",
   "execution_count": 3,
   "id": "d5d4d430-06db-472b-a1b7-de379f81a630",
   "metadata": {
    "jupyter": {
     "source_hidden": true
    },
    "tags": []
   },
   "outputs": [],
   "source": [
    "# Get seedlist\n",
    "file = '../seedfile.dat'\n",
    "with open(file) as f:\n",
    "    seed_list = []\n",
    "    for line in f: # read rest of lines\n",
    "        seed_list.append([int(x) for x in line.split()][0])"
   ]
  },
  {
   "cell_type": "code",
   "execution_count": 4,
   "id": "afa5b36b-6ee0-4dd2-aa5b-31dc9ba9ecb0",
   "metadata": {
    "jupyter": {
     "source_hidden": true
    },
    "tags": []
   },
   "outputs": [],
   "source": [
    "scriptname = \"env_agent_seed.py\""
   ]
  },
  {
   "cell_type": "code",
   "execution_count": 5,
   "id": "9adfdee3-4ae3-4bba-b8d7-2e697cdee848",
   "metadata": {
    "jupyter": {
     "source_hidden": true
    },
    "tags": []
   },
   "outputs": [],
   "source": [
    "# DUMMY\n",
    "\n",
    "# # set agent name and parameter\n",
    "# agent_type = \"constant\"\n",
    "# agent_params = {\n",
    "#         \"agent_name\":\"dummy\",\n",
    "#         \"conformity\":0.5\n",
    "#             }\n",
    "\n",
    "# agent_params_str = str(agent_params)\n",
    "\n",
    "# seed = seed_list[0]\n",
    "# experiment_meta_type_tag, experiment_type_tag, experiment_instance_tag = common.utils.experiment_tag_generator(env_type, \n",
    "#                                                                                                                env_params[\"env_name\"], \n",
    "#                                                                                                                agent_type, \n",
    "#                                                                                                                agent_params[\"agent_name\"], \n",
    "#                                                                                                            seed)\n",
    "# log_folder = experiment_meta_type_tag\n",
    "# log_filename = experiment_type_tag\n",
    "# !mkdir -p ../logfiles/\"$log_folder\"\n",
    "\n",
    "# !python \"$scriptname\" \\\n",
    "# --env=\"$env_type\" \\\n",
    "# --env_param=\"$env_params_str\" \\\n",
    "# --agent=\"$agent_type\" \\\n",
    "# --agent_params=\"$agent_params_str\" \\\n",
    "# --exp_params=\"$exp_params_str\" \\\n",
    "# --seed=\"$seed\" >> ../logfiles/\"$log_folder\"/\"$log_filename\" 2>&1 ;"
   ]
  },
  {
   "cell_type": "code",
   "execution_count": 6,
   "id": "4958b6e3-877f-4c0e-abb6-15443737a87c",
   "metadata": {
    "jupyter": {
     "source_hidden": true
    },
    "tags": []
   },
   "outputs": [],
   "source": [
    "# FINISHED\n",
    "\n",
    "# agent_type = \"schmitt\"\n",
    "# agent_params = {\n",
    "#     \"agent_name\":\"dummy\",\n",
    "#     \"threshold\": 0.95,\n",
    "#     \"val_hi\": 0.9,\n",
    "#     \"val_lo\": 0.1\n",
    "#     }\n",
    "\n",
    "# threshold_hi_list = [0.9, 0.8, 0.7, 0.6]\n",
    "# threshold_lo_list = [0.2, 0.3, 0.4, 0.5]\n",
    "# val_hi_list = [0.99, 0.9]\n",
    "# val_lo_list= [0.1, 0.5]\n",
    "\n",
    "# from sklearn.model_selection import ParameterGrid\n",
    "# params_gen = {\n",
    "#     'threshold_hi':threshold_hi_list,\n",
    "#     'threshold_lo':threshold_lo_list,\n",
    "#     'val_hi':val_hi_list,\n",
    "#     'val_lo':val_lo_list,\n",
    "#          }\n",
    "# param_grid = ParameterGrid(params_gen)\n",
    "\n",
    "# for param_dict in param_grid:\n",
    "#     # generate deterministic name\n",
    "#     name = str(int(param_dict[\"threshold_hi\"]*100)) +str(int(param_dict[\"threshold_lo\"]*100)) + str(int(param_dict[\"val_hi\"]*100)) + str(int(param_dict[\"val_lo\"]*100))\n",
    "#     agent_params = param_dict\n",
    "#     agent_params[\"agent_name\"] = name\n",
    "#     agent_params_str = str(agent_params)\n",
    "    \n",
    "#     experiment_meta_type_tag, experiment_type_tag, _ = common.utils.experiment_tag_generator(env_type, \n",
    "#                                                                                            env_params[\"env_name\"], \n",
    "#                                                                                            agent_type, \n",
    "#                                                                                            agent_params[\"agent_name\"],\n",
    "#                                                                                            seed=0)\n",
    "#     log_folder = experiment_meta_type_tag\n",
    "#     log_filename = experiment_type_tag\n",
    "#     !mkdir -p ../logfiles/\"$log_folder\"\n",
    "\n",
    "#     for seed in seed_list:\n",
    "#         !python \"$scriptname\" \\\n",
    "#         --env=\"$env_type\" \\\n",
    "#         --env_param=\"$env_params_str\" \\\n",
    "#         --agent=\"$agent_type\" \\\n",
    "#         --agent_params=\"$agent_params_str\" \\\n",
    "#         --exp_params=\"$exp_params_str\" \\\n",
    "#         --seed=\"$seed\" >> ../logfiles/\"$log_folder\"/\"$log_filename\" 2>&1 ;"
   ]
  },
  {
   "cell_type": "code",
   "execution_count": 7,
   "id": "2b3c6c80-1a17-415b-a93a-e4e7643b073c",
   "metadata": {
    "jupyter": {
     "source_hidden": true
    },
    "tags": []
   },
   "outputs": [],
   "source": [
    "# FINISHED\n",
    "\n",
    "# agent_type = \"bangbang\"\n",
    "# agent_params = {\n",
    "#     \"agent_name\":\"dummy\",\n",
    "#     \"threshold\": 0.95,\n",
    "#     \"val_hi\": 0.9,\n",
    "#     \"val_lo\": 0.1\n",
    "#     }\n",
    "\n",
    "# threshold_list = [0.1, 0.2, 0.3, 0.4, 0.5, 0.6, 0.7, 0.8, 0.9, 0.95, 0.98]\n",
    "# val_hi_list = [0.99, 0.9]\n",
    "# val_lo_list= [0.1, 0.5]\n",
    "\n",
    "# from sklearn.model_selection import ParameterGrid\n",
    "# params_gen = {'threshold':threshold_list,\n",
    "#           'val_hi':val_hi_list,\n",
    "#           'val_lo':val_lo_list,\n",
    "#          }\n",
    "# param_grid = ParameterGrid(params_gen)\n",
    "\n",
    "# for param_dict in param_grid:\n",
    "#     # generate deterministic name\n",
    "#     name = str(int(param_dict[\"threshold\"]*100)) + str(int(param_dict[\"val_hi\"]*100)) + str(int(param_dict[\"val_lo\"]*100))\n",
    "            \n",
    "#     agent_params = param_dict\n",
    "#     agent_params[\"agent_name\"] = name\n",
    "#     agent_params_str = str(agent_params)\n",
    "    \n",
    "#     experiment_meta_type_tag, experiment_type_tag, _ = common.utils.experiment_tag_generator(env_type, \n",
    "#                                                                                            env_params[\"env_name\"], \n",
    "#                                                                                            agent_type, \n",
    "#                                                                                            agent_params[\"agent_name\"],\n",
    "#                                                                                            seed=0)\n",
    "#     log_folder = experiment_meta_type_tag\n",
    "#     log_filename = experiment_type_tag\n",
    "#     !mkdir -p ../logfiles/\"$log_folder\"\n",
    "\n",
    "#     for seed in seed_list:\n",
    "#         !python \"$scriptname\" \\\n",
    "#         --env=\"$env_type\" \\\n",
    "#         --env_param=\"$env_params_str\" \\\n",
    "#         --agent=\"$agent_type\" \\\n",
    "#         --agent_params=\"$agent_params_str\" \\\n",
    "#         --exp_params=\"$exp_params_str\" \\\n",
    "#         --seed=\"$seed\" >> ../logfiles/\"$log_folder\"/\"$log_filename\" 2>&1 ;"
   ]
  },
  {
   "cell_type": "code",
   "execution_count": 8,
   "id": "e893f8c2-2f27-4d93-84f3-c879feb19b3a",
   "metadata": {
    "jupyter": {
     "source_hidden": true
    },
    "tags": []
   },
   "outputs": [],
   "source": [
    "# # FINISHED\n",
    "\n",
    "# agent_type = \"nonlinearmean\"\n",
    "# agent_params = {\n",
    "#         \"agent_name\":\"dummy\",\n",
    "#         \"rsp\":0.0001\n",
    "#             }\n",
    "# rsp_list = [0.1, 0.2, 0.3, 0.4, 0.5, 0.6, 0.7, 0.8, 0.9, 0.95, 0.98]\n",
    "\n",
    "# for rsp in rsp_list:\n",
    "#     # set agent name and parameter\n",
    "#     agent_params[\"agent_name\"] = \"rsp\" + str(int(rsp*100))\n",
    "#     agent_params[\"rsp\"] = rsp\n",
    "#     agent_params_str = str(agent_params)\n",
    "    \n",
    "#     experiment_meta_type_tag, experiment_type_tag, _ = common.utils.experiment_tag_generator(env_type, \n",
    "#                                                                                            env_params[\"env_name\"], \n",
    "#                                                                                            agent_type, \n",
    "#                                                                                            agent_params[\"agent_name\"],\n",
    "#                                                                                            seed=0)\n",
    "#     log_folder = experiment_meta_type_tag\n",
    "#     log_filename = experiment_type_tag\n",
    "#     !mkdir -p ../logfiles/\"$log_folder\"\n",
    "\n",
    "#     for seed in seed_list:\n",
    "#         !python \"$scriptname\" \\\n",
    "#         --env=\"$env_type\" \\\n",
    "#         --env_param=\"$env_params_str\" \\\n",
    "#         --agent=\"$agent_type\" \\\n",
    "#         --agent_params=\"$agent_params_str\" \\\n",
    "#         --exp_params=\"$exp_params_str\" \\\n",
    "#         --seed=\"$seed\" >> ../logfiles/\"$log_folder\"/\"$log_filename\" 2>&1 ;"
   ]
  },
  {
   "cell_type": "code",
   "execution_count": 9,
   "id": "eaa04290-af15-45ad-bba9-e0a248adeeda",
   "metadata": {
    "jupyter": {
     "source_hidden": true
    },
    "tags": []
   },
   "outputs": [],
   "source": [
    "# # FINISHED\n",
    "\n",
    "# agent_type = \"nonlinear\"\n",
    "# agent_params = {\n",
    "#         \"agent_name\":\"dummy\",\n",
    "#         \"rsp\":0.0001\n",
    "#             }\n",
    "# rsp_list = [0.1, 0.2, 0.3, 0.4, 0.5, 0.6, 0.7, 0.8, 0.9, 0.95, 0.98]\n",
    "\n",
    "# for rsp in rsp_list:\n",
    "#     # set agent name and parameter\n",
    "#     agent_params[\"agent_name\"] = \"rsp\" + str(int(rsp*100))\n",
    "#     agent_params[\"rsp\"] = rsp\n",
    "#     agent_params_str = str(agent_params)\n",
    "    \n",
    "#     experiment_meta_type_tag, experiment_type_tag, _ = common.utils.experiment_tag_generator(env_type, \n",
    "#                                                                                            env_params[\"env_name\"], \n",
    "#                                                                                            agent_type, \n",
    "#                                                                                            agent_params[\"agent_name\"],\n",
    "#                                                                                            seed=0)\n",
    "#     log_folder = experiment_meta_type_tag\n",
    "#     log_filename = experiment_type_tag\n",
    "#     !mkdir -p ../logfiles/\"$log_folder\"\n",
    "\n",
    "#     for seed in seed_list:\n",
    "#         !python \"$scriptname\" \\\n",
    "#         --env=\"$env_type\" \\\n",
    "#         --env_param=\"$env_params_str\" \\\n",
    "#         --agent=\"$agent_type\" \\\n",
    "#         --agent_params=\"$agent_params_str\" \\\n",
    "#         --exp_params=\"$exp_params_str\" \\\n",
    "#         --seed=\"$seed\" >> ../logfiles/\"$log_folder\"/\"$log_filename\" 2>&1 ;"
   ]
  },
  {
   "cell_type": "code",
   "execution_count": null,
   "id": "e0b7b99f-1267-4e39-a71e-e1103b9eddfc",
   "metadata": {},
   "outputs": [],
   "source": [
    "# NOT FINISHED\n",
    "\n",
    "agent_type = \"constant\"\n",
    "agent_params = {\n",
    "        \"agent_name\":\"dummy\",\n",
    "        \"conformity\":0.0001\n",
    "            }\n",
    "conformity_list = [0.1, 0.2, 0.3, 0.4, 0.5, 0.6, 0.7, 0.8, 0.9, 0.95, 0.98]\n",
    "\n",
    "for conformity in conformity_list:\n",
    "    # set agent name and parameter\n",
    "    agent_params[\"agent_name\"] = \"c\" + str(int(conformity*100))\n",
    "    agent_params[\"conformity\"] = conformity\n",
    "    agent_params_str = str(agent_params)\n",
    "    \n",
    "    experiment_meta_type_tag, experiment_type_tag, _ = common.utils.experiment_tag_generator(env_type, \n",
    "                                                                                           env_params[\"env_name\"], \n",
    "                                                                                           agent_type, \n",
    "                                                                                           agent_params[\"agent_name\"],\n",
    "                                                                                           seed=0)\n",
    "    log_folder = experiment_meta_type_tag\n",
    "    log_filename = experiment_type_tag\n",
    "    !mkdir -p ../logfiles/\"$log_folder\"\n",
    "\n",
    "    for seed in seed_list:\n",
    "        !python \"$scriptname\" \\\n",
    "        --env=\"$env_type\" \\\n",
    "        --env_param=\"$env_params_str\" \\\n",
    "        --agent=\"$agent_type\" \\\n",
    "        --agent_params=\"$agent_params_str\" \\\n",
    "        --exp_params=\"$exp_params_str\" \\\n",
    "        --seed=\"$seed\" >> ../logfiles/\"$log_folder\"/\"$log_filename\" 2>&1 ;"
   ]
  }
 ],
 "metadata": {
  "kernelspec": {
   "display_name": "Python 3 (ipykernel)",
   "language": "python",
   "name": "python3"
  },
  "language_info": {
   "codemirror_mode": {
    "name": "ipython",
    "version": 3
   },
   "file_extension": ".py",
   "mimetype": "text/x-python",
   "name": "python",
   "nbconvert_exporter": "python",
   "pygments_lexer": "ipython3",
   "version": "3.7.10"
  }
 },
 "nbformat": 4,
 "nbformat_minor": 5
}
