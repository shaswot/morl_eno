{
 "cells": [
  {
   "cell_type": "code",
   "execution_count": 1,
   "id": "f146c082-5f23-4451-89ce-a810725129d0",
   "metadata": {},
   "outputs": [],
   "source": [
    "import numpy as np\n",
    "import os\n",
    "import matplotlib.pyplot as plt\n",
    "# plt.rc('xtick', labelsize=8)\n",
    "# plt.rc('ytick', labelsize=8)\n",
    "# plt.rc('axes', labelsize=8)\n",
    "\n",
    "import sys\n",
    "import pathlib\n",
    "\n",
    "# in jupyter (lab / notebook), based on notebook path\n",
    "module_path = str(pathlib.Path.cwd().parents[0] / \"py\")\n",
    "# # in standard python\n",
    "# module_path = str(pathlib.Path.cwd(__file__).parents[0] / \"common\")\n",
    "\n",
    "if module_path not in sys.path:\n",
    "    sys.path.append(module_path)\n",
    "\n",
    "import common.viz"
   ]
  },
  {
   "cell_type": "code",
   "execution_count": 2,
   "id": "569c2011-06c5-419e-9367-a9721bc07a74",
   "metadata": {},
   "outputs": [],
   "source": [
    "# Trace state variables, actions etc. \n",
    "# for a particular experiment instance\n",
    "\n",
    "env_name = \"sense\"\n",
    "timeslots_per_day = 24\n",
    "REQ_TYPE = \"random\"\n",
    "\n",
    "agent_name = \"agent_BC\"\n",
    "agent_param = \"rsp10\"\n",
    "seed = 20211229"
   ]
  },
  {
   "cell_type": "code",
   "execution_count": 3,
   "id": "f06380ce-b60d-40e9-9c35-9ec92ec5a7da",
   "metadata": {},
   "outputs": [],
   "source": [
    "root_folder = os.path.dirname(os.getcwd())\n",
    "\n",
    "# load trace file\n",
    "env_tag = env_name + '_t' + str(timeslots_per_day) + '_' + REQ_TYPE\n",
    "agent_tag = agent_name + '_' + agent_param\n",
    "\n",
    "# experiment tag\n",
    "# name of folder to save models and results\n",
    "experiment_type_tag = env_tag  + \"-\" + agent_tag\n",
    "experiment_instance_tag =  experiment_type_tag + '-' + str(seed)\n",
    "\n",
    "# Folder/file to load test results\n",
    "test_results_folder = os.path.join(root_folder,\"results\", experiment_type_tag, \"test\")\n",
    "assert os.path.exists(test_results_folder), \"'\" + test_results_folder + \"' folder does not exist\"\n",
    "test_log_file = os.path.join(test_results_folder, experiment_instance_tag + '-test.npy')   \n",
    "\n",
    "# Load data\n",
    "experiment_instance_result = np.load(test_log_file,allow_pickle='TRUE').item()    "
   ]
  },
  {
   "cell_type": "code",
   "execution_count": 4,
   "id": "a3a3fc44-c573-4ed9-b52b-fca5b8ce9035",
   "metadata": {},
   "outputs": [
    {
     "name": "stdout",
     "output_type": "stream",
     "text": [
      "Choose a location from:\t ['tokyo']\n",
      "Choose a year from:\t [1995, 1996, 1997, 1998, 1999]\n"
     ]
    }
   ],
   "source": [
    "first_level_keys = list(experiment_instance_result.keys())\n",
    "second_level_keys = list(experiment_instance_result[first_level_keys[0]].keys())\n",
    "third_level_keys = list(experiment_instance_result[first_level_keys[0]][second_level_keys[0]].keys())\n",
    "\n",
    "print(\"Choose a location from:\\t\", first_level_keys)\n",
    "# print(\"Choose a year from:\\t\", second_level_keys)"
   ]
  },
  {
   "cell_type": "code",
   "execution_count": 5,
   "id": "4136d68a-59db-4216-98dc-da85a5f9d34d",
   "metadata": {},
   "outputs": [],
   "source": [
    "location = \"tokyo\""
   ]
  },
  {
   "cell_type": "code",
   "execution_count": 6,
   "id": "f93eda08-4e37-4539-9304-c9d0f1ba9822",
   "metadata": {},
   "outputs": [],
   "source": [
    "year_list = list(experiment_instance_result[location].keys())"
   ]
  },
  {
   "cell_type": "code",
   "execution_count": 8,
   "id": "3267311c-5d53-42a4-8524-8bd3f39f9fcc",
   "metadata": {},
   "outputs": [
    {
     "name": "stdout",
     "output_type": "stream",
     "text": [
      "tokyo\n"
     ]
    },
    {
     "data": {
      "image/png": "[encoded data removed]",
      "text/plain": [
       "<Figure size 251.064x155.169 with 2 Axes>"
      ]
     },
     "metadata": {
      "needs_background": "light"
     },
     "output_type": "display_data"
    }
   ],
   "source": [
    "# Latex single column settings\n",
    "single_column_figure_width = 3.487\n",
    "double_column_figure_width = 7\n",
    "\n",
    "fig_width = single_column_figure_width\n",
    "fig_height = fig_width / 1.618\n",
    "\n",
    "fig, axs = plt.subplots(nrows=2,\n",
    "                        ncols=1,\n",
    "                        figsize=[fig_width,fig_height], # in inches\n",
    "                        sharex=True)\n",
    "plt.subplots_adjust(left=None, bottom=None, right=None, top=None, wspace=None, hspace=.05)\n",
    "\n",
    "#######################################################################################\n",
    "# # left  = 0.125  # the left side of the subplots of the figure\n",
    "# # right = 0.9    # the right side of the subplots of the figure\n",
    "# # bottom = 0.1   # the bottom of the subplots of the figure\n",
    "# # top = 0.9      # the top of the subplots of the figure\n",
    "# # wspace = 0.2   # the amount of width reserved for blank space between subplots\n",
    "# # hspace = 0.2   # the amount of height reserved for white space between subplots\n",
    "#######################################################################################\n",
    "\n",
    "sense_reward_ax  = axs[0]\n",
    "downtimes_ax = axs[1]\n",
    "\n",
    "print(location)\n",
    "\n",
    "# avg_sense_reward\n",
    "data = [experiment_instance_result[location][year]['sense_reward_log'].mean() for year in year_list]\n",
    "sense_reward_ax.plot(year_list, data, label=experiment_instance_tag)\n",
    "    \n",
    "sense_reward_ax.text(0.15,0.85, 'sense utility', \n",
    "         size='x-small', ha=\"center\", \n",
    "         transform=sense_reward_ax.transAxes)\n",
    "# sense_reward_ax.set_title('sense utility')\n",
    "# sense_reward_ax.set_ylabel('sense utility')    \n",
    "sense_reward_ax.legend(loc=\"lower left\",\n",
    "                       ncol=1,\n",
    "                       fontsize='x-small',\n",
    "                       bbox_to_anchor=(-0.02,1,1,1))\n",
    "sense_reward_ax.grid(which='major', axis='x', linestyle='--')\n",
    "\n",
    "# Downtimes\n",
    "data = [experiment_instance_result[location][year]['downtimes'] for year in year_list]\n",
    "width = 0.8  # the width of the bars \n",
    "xroot = np.array(year_list) # label locations\n",
    "xoffset = 0\n",
    "downtimes_ax.bar(xroot+xoffset*width, data, width,\n",
    "                 label=experiment_instance_tag,\n",
    "                 error_kw=dict(ecolor='black', lw=1, capsize=0.5, capthick=width*0.5, alpha=0.2))\n",
    "\n",
    "# downtimes_ax.set_xticks(year_list[::5])\n",
    "# downtimes_ax.set_xticklabels(year_list[::5], rotation=0)\n",
    "\n",
    "downtimes_ax.text(0.15,0.85, 'downtimes', \n",
    "                 size='x-small', ha=\"center\", \n",
    "                 transform=downtimes_ax.transAxes)\n",
    "# downtimes_ax.set_title('downtimes')\n",
    "# downtimes_ax.set_ylabel('downtimes')    \n",
    "# downtimes_ax.legend(loc=\"lower left\",\n",
    "#                    ncol=1,\n",
    "#                    bbox_to_anchor=(0,0.8,1,1))\n",
    "downtimes_ax.grid(which='major', axis='y', linestyle='--')\n",
    "# fig.savefig('./figures/figure.png', dpi=300, bbox_inches='tight', transparent=True)"
   ]
  },
  {
   "cell_type": "code",
   "execution_count": null,
   "id": "1309bb75-7033-49dd-a705-176fdea03d00",
   "metadata": {},
   "outputs": [],
   "source": []
  }
 ],
 "metadata": {
  "kernelspec": {
   "display_name": "Python 3 (ipykernel)",
   "language": "python",
   "name": "python3"
  },
  "language_info": {
   "codemirror_mode": {
    "name": "ipython",
    "version": 3
   },
   "file_extension": ".py",
   "mimetype": "text/x-python",
   "name": "python",
   "nbconvert_exporter": "python",
   "pygments_lexer": "ipython3",
   "version": "3.7.10"
  }
 },
 "nbformat": 4,
 "nbformat_minor": 5
}
