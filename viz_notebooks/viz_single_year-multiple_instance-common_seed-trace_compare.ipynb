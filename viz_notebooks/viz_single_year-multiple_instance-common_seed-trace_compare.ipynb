{
 "cells": [
  {
   "cell_type": "code",
   "execution_count": 1,
   "id": "bb4464ee-95e8-4dd3-abb7-0d8b32acb36c",
   "metadata": {},
   "outputs": [],
   "source": [
    "import numpy as np\n",
    "import os\n",
    "import matplotlib\n",
    "import matplotlib.pyplot as plt\n",
    "# plt.rc('xtick', labelsize=8)\n",
    "# plt.rc('ytick', labelsize=8)\n",
    "# plt.rc('axes', labelsize=8)\n",
    "\n",
    "import sys\n",
    "import pathlib\n",
    "\n",
    "# in jupyter (lab / notebook), based on notebook path\n",
    "module_path = str(pathlib.Path.cwd().parents[0] / \"py\")\n",
    "# # in standard python\n",
    "# module_path = str(pathlib.Path.cwd(__file__).parents[0] / \"common\")\n",
    "\n",
    "if module_path not in sys.path:\n",
    "    sys.path.append(module_path)\n",
    "\n",
    "import common.viz"
   ]
  },
  {
   "cell_type": "code",
   "execution_count": 2,
   "id": "f418f924-91d2-431d-b2c3-6cbdf7c52e23",
   "metadata": {},
   "outputs": [
    {
     "name": "stdout",
     "output_type": "stream",
     "text": [
      "test\n"
     ]
    }
   ],
   "source": [
    "# Compare between experiments in a list\n",
    "experiment_list = [\n",
    "    \"sense_t24_random-agent_BC_rsp10\",\n",
    "    \"sense_t24_random-agent_BC_rsp90\",\n",
    "                    ]\n",
    "# human readable names for experiments\n",
    "label_list = [\n",
    "    \"BC_rsp10\",\n",
    "    \"BC_rsp90\",\n",
    "                ]\n",
    "\n",
    "# metrics to compare\n",
    "metric_list = [\n",
    "    # \"reward_rec\",\n",
    "    # \"ep_done_rec\",\n",
    "    # \"action_log\",\n",
    "    \"sense_dc_log\",\n",
    "    # \"henergy\",\n",
    "    # \"penergy\",\n",
    "    \"benergy\",\n",
    "    # \"menergy\",\n",
    "    # \"req_obs\",\n",
    "    # \"sense_reward_log\",\n",
    "    # \"enp_reward_log\",\n",
    "            ]\n",
    "\n",
    "# Indicate which seed instance to use\n",
    "seed_list = [20211229]\n",
    "seed_no = seed_list[0]\n",
    "\n",
    "# Set mode to train or test\n",
    "mode = \"test\"\n",
    "print(mode)\n",
    "\n",
    "# other arguments\n",
    "location = \"tokyo\"\n",
    "year = 1995\n",
    "timeslots_per_day = 24\n",
    "START_DAY = 43\n",
    "NO_OF_DAY_TO_PLOT = 1"
   ]
  },
  {
   "cell_type": "code",
   "execution_count": 3,
   "id": "8af477d8-95c9-4e1c-91f6-a813e54ddb5f",
   "metadata": {},
   "outputs": [
    {
     "ename": "TypeError",
     "evalue": "step() missing 1 required positional argument: 'y'",
     "output_type": "error",
     "traceback": [
      "\u001b[0;31m---------------------------------------------------------------------------\u001b[0m",
      "\u001b[0;31mTypeError\u001b[0m                                 Traceback (most recent call last)",
      "\u001b[0;32m/tmp/ipykernel_4452/411480213.py\u001b[0m in \u001b[0;36m<module>\u001b[0;34m\u001b[0m\n\u001b[1;32m     12\u001b[0m                           \u001b[0mtimeslots_per_day\u001b[0m\u001b[0;34m,\u001b[0m\u001b[0;34m\u001b[0m\u001b[0;34m\u001b[0m\u001b[0m\n\u001b[1;32m     13\u001b[0m                           \u001b[0mSTART_DAY\u001b[0m\u001b[0;34m,\u001b[0m\u001b[0;34m\u001b[0m\u001b[0;34m\u001b[0m\u001b[0m\n\u001b[0;32m---> 14\u001b[0;31m                           NO_OF_DAY_TO_PLOT)\n\u001b[0m",
      "\u001b[0;32m/repos/morl_eno/py/common/viz.py\u001b[0m in \u001b[0;36mcompare_trace\u001b[0;34m(results_folder, experiment_list, label_list, metric_list, seed_no, mode, location, year, timeslots_per_day, START_DAY, NO_OF_DAY_TO_PLOT)\u001b[0m\n\u001b[1;32m    190\u001b[0m                          \u001b[0mlinewidth\u001b[0m\u001b[0;34m=\u001b[0m\u001b[0;36m1.0\u001b[0m\u001b[0;34m,\u001b[0m\u001b[0;34m\u001b[0m\u001b[0;34m\u001b[0m\u001b[0m\n\u001b[1;32m    191\u001b[0m                          \u001b[0mlinestyle\u001b[0m\u001b[0;34m=\u001b[0m\u001b[0mmetric_linestyle\u001b[0m\u001b[0;34m[\u001b[0m\u001b[0mmetric\u001b[0m\u001b[0;34m]\u001b[0m\u001b[0;34m,\u001b[0m\u001b[0;34m\u001b[0m\u001b[0;34m\u001b[0m\u001b[0m\n\u001b[0;32m--> 192\u001b[0;31m                          label=experiment + \"-\" + metric)\n\u001b[0m\u001b[1;32m    193\u001b[0m \u001b[0;34m\u001b[0m\u001b[0m\n\u001b[1;32m    194\u001b[0m     axs.legend(loc=\"best\",\n",
      "\u001b[0;31mTypeError\u001b[0m: step() missing 1 required positional argument: 'y'"
     ]
    },
    {
     "data": {
      "image/png": "[encoded data removed]",
      "text/plain": [
       "<Figure size 1440x288 with 1 Axes>"
      ]
     },
     "metadata": {
      "needs_background": "light"
     },
     "output_type": "display_data"
    }
   ],
   "source": [
    "root_folder = os.path.dirname(os.getcwd())\n",
    "results_folder = os.path.join(root_folder,\"results\")\n",
    "\n",
    "common.viz.compare_trace(results_folder,\n",
    "                         experiment_list,\n",
    "                          label_list,\n",
    "                          metric_list,\n",
    "                          seed_no,\n",
    "                          mode,\n",
    "                          location,\n",
    "                          year,\n",
    "                          timeslots_per_day,\n",
    "                          START_DAY,\n",
    "                          NO_OF_DAY_TO_PLOT)"
   ]
  },
  {
   "cell_type": "code",
   "execution_count": null,
   "id": "22ca6929-6044-48f0-b9f2-011f05c9b509",
   "metadata": {},
   "outputs": [],
   "source": []
  }
 ],
 "metadata": {
  "kernelspec": {
   "display_name": "Python 3 (ipykernel)",
   "language": "python",
   "name": "python3"
  },
  "language_info": {
   "codemirror_mode": {
    "name": "ipython",
    "version": 3
   },
   "file_extension": ".py",
   "mimetype": "text/x-python",
   "name": "python",
   "nbconvert_exporter": "python",
   "pygments_lexer": "ipython3",
   "version": "3.7.10"
  }
 },
 "nbformat": 4,
 "nbformat_minor": 5
}
