{
 "cells": [
  {
   "cell_type": "code",
   "execution_count": 1,
   "id": "f146c082-5f23-4451-89ce-a810725129d0",
   "metadata": {
    "tags": []
   },
   "outputs": [],
   "source": [
    "import numpy as np\n",
    "import os\n",
    "import matplotlib\n",
    "import matplotlib.pyplot as plt\n",
    "# plt.rc('xtick', labelsize=8)\n",
    "# plt.rc('ytick', labelsize=8)\n",
    "# plt.rc('axes', labelsize=8)\n",
    "\n",
    "import sys\n",
    "import pathlib\n",
    "\n",
    "# in jupyter (lab / notebook), based on notebook path\n",
    "module_path = str(pathlib.Path.cwd().parents[0] / \"py\")\n",
    "# # in standard python\n",
    "# module_path = str(pathlib.Path.cwd(__file__).parents[0] / \"common\")\n",
    "\n",
    "if module_path not in sys.path:\n",
    "    sys.path.append(module_path)\n",
    "\n",
    "import common.viz"
   ]
  },
  {
   "cell_type": "code",
   "execution_count": 2,
   "id": "ceb71409-29d3-4a43-b496-5f34782333b9",
   "metadata": {
    "tags": []
   },
   "outputs": [],
   "source": [
    "# Compare between experiments in a list\n",
    "experiment_list = [\n",
    "    \"sense_t24_random-agent_BC_rsp10\",\n",
    "    \"sense_t24_random-agent_BC_rsp20\",\n",
    "    \"sense_t24_random-agent_BC_rsp30\",\n",
    "    \"sense_t24_random-agent_BC_rsp40\",\n",
    "    \"sense_t24_random-agent_BC_rsp50\",\n",
    "    # \"sense_t24_random-agent_BC_rsp60\",\n",
    "    # \"sense_t24_random-agent_BC_rsp70\",\n",
    "    # \"sense_t24_random-agent_BC_rsp80\",\n",
    "    # \"sense_t24_random-agent_BC_rsp90\",\n",
    "    # \"sense_t24_random-agent_BC_rsp95\",\n",
    "    # \"sense_t24_random-agent_BC_rsp98\",\n",
    "    # \"sense_t24_random-agent_mBC_rsp10\",\n",
    "    # \"sense_t24_random-agent_constant_rsp10\",\n",
    "                    ]\n",
    "# human readable names for experiments\n",
    "label_list = [\n",
    "    \"BC_rsp10\",\n",
    "    \"BC_rsp20\",\n",
    "    \"BC_rsp30\",\n",
    "    \"BC_rsp40\",\n",
    "    \"BC_rsp50\",\n",
    "    # \"BC_rsp60\",\n",
    "    # \"BC_rsp70\",\n",
    "    # \"BC_rsp80\",\n",
    "#     \"BC_rsp90\",\n",
    "#     \"BC_rsp95\",\n",
    "#     \"BC_rsp98\",\n",
    "    \n",
    "#     \"mBC_rsp10\",\n",
    "#     \"mBC_rsp20\",\n",
    "#     \"mBC_rsp30\",\n",
    "#     \"mBC_rsp40\",\n",
    "#     \"mBC_rsp50\",\n",
    "#     \"mBC_rsp60\",\n",
    "#     \"mBC_rsp70\",\n",
    "#     \"mBC_rsp80\",\n",
    "#     \"mBC_rsp90\",\n",
    "#     \"mBC_rsp95\",\n",
    "#     \"mBC_rsp98\",\n",
    "    \n",
    "#     \"constant_rsp10\",\n",
    "#     \"constant_rsp20\",\n",
    "#     \"constant_rsp30\",\n",
    "#     \"constant_rsp40\",\n",
    "#     \"constant_rsp50\",\n",
    "#     \"constant_rsp60\",\n",
    "#     \"constant_rsp70\",\n",
    "#     \"constant_rsp80\",\n",
    "#     \"constant_rsp90\",\n",
    "#     \"constant_rsp95\",\n",
    "#     \"constant_rsp98\",\n",
    "                ]\n",
    "experiment_label = dict(zip(experiment_list, label_list))\n",
    "\n",
    "# specify a color for each plot\n",
    "color_list = list(matplotlib.colors.TABLEAU_COLORS.keys())\n",
    "experiment_color = dict(zip(experiment_list, color_list))"
   ]
  },
  {
   "cell_type": "code",
   "execution_count": 3,
   "id": "eeeb10d4-f2d1-4d38-ac4e-96d7f43b8a82",
   "metadata": {
    "tags": []
   },
   "outputs": [],
   "source": [
    "# Indicate which seeds to use to average across\n",
    "seed_list = [20211229]"
   ]
  },
  {
   "cell_type": "code",
   "execution_count": 4,
   "id": "6c4a90d2-b5bc-46ec-adce-34937da2459e",
   "metadata": {
    "tags": []
   },
   "outputs": [
    {
     "name": "stdout",
     "output_type": "stream",
     "text": [
      "test\n"
     ]
    }
   ],
   "source": [
    "# Set mode to train or test\n",
    "mode = \"test\"\n",
    "print(mode)"
   ]
  },
  {
   "cell_type": "code",
   "execution_count": 5,
   "id": "4494757e-553e-4e09-ba0d-e8fb73e92fb9",
   "metadata": {
    "tags": []
   },
   "outputs": [],
   "source": [
    "# Load all data in a dictionary \n",
    "\n",
    "# dictionary to hold experimental data\n",
    "results = {}\n",
    "\n",
    "# load data from each experiment\n",
    "for experiment in experiment_list:\n",
    "    results[experiment]={}\n",
    "    for seed_no in seed_list:\n",
    "        # Load data of experiment and store in a dictionary\n",
    "        experiment_instance_tag = experiment + '-' + str(seed_no)\n",
    "        root_folder = os.path.dirname(os.getcwd())\n",
    "        exp_results_folder = os.path.join(root_folder,\"results\", experiment, mode) # folder with results of the experiment\n",
    "        exp_results_file = os.path.join(exp_results_folder, experiment_instance_tag + '-'+ mode + '.npy') # experiment data file\n",
    "        exp_result = np.load(exp_results_file,allow_pickle='TRUE').item()\n",
    "        results[experiment][seed_no] = exp_result # load to dictionary"
   ]
  },
  {
   "cell_type": "code",
   "execution_count": 6,
   "id": "31ca4d82-3151-4152-b530-49d93f4446c0",
   "metadata": {
    "tags": []
   },
   "outputs": [],
   "source": [
    "# Check if each experiment have the same location\n",
    "location_list = []\n",
    "for experiment in experiment_list:\n",
    "    for seed_no in seed_list:\n",
    "        if location_list: # if dummy_list is not empty\n",
    "            # check if all experiments have the same location keys\n",
    "            assert location_list == list(results[experiment][seed_no].keys()), \"Locations differ among experiments and/or seeds\"\n",
    "        else: # if dummy_list is empty\n",
    "            location_list = list(results[experiment][seed_no].keys())        # location_list = list(results[experiment][seed_no].keys())"
   ]
  },
  {
   "cell_type": "code",
   "execution_count": 7,
   "id": "5872f3eb-5595-41c9-bace-be3766af8951",
   "metadata": {
    "tags": []
   },
   "outputs": [],
   "source": [
    "# Check if each experiment have the same number of years\n",
    "year_list = []\n",
    "for experiment in experiment_list:\n",
    "    for seed_no in seed_list:\n",
    "        for location in location_list:\n",
    "            if year_list:\n",
    "                assert year_list == list(results[experiment][seed_no][location].keys()), \"Years differ among experiments/seeds/locations\" \n",
    "            else:\n",
    "                year_list = list(results[experiment][seed_no][location].keys())"
   ]
  },
  {
   "cell_type": "code",
   "execution_count": 8,
   "id": "589e6e5e-61a6-419f-9b6a-f9945a485954",
   "metadata": {
    "tags": []
   },
   "outputs": [],
   "source": [
    "# Add statistical summary keys to dictionaries\n",
    "for experiment in experiment_list:\n",
    "    results[experiment][\"minimum\"] = {}\n",
    "    results[experiment][\"first_q\"] = {}\n",
    "    results[experiment][\"average\"] = {}\n",
    "    results[experiment][\"third_q\"] = {}\n",
    "    results[experiment][\"maximum\"] = {}\n",
    "    for location in location_list:\n",
    "        results[experiment][\"minimum\"][location] = {}\n",
    "        results[experiment][\"first_q\"][location] = {}\n",
    "        results[experiment][\"average\"][location] = {}\n",
    "        results[experiment][\"third_q\"][location] = {}\n",
    "        results[experiment][\"maximum\"][location] = {}\n",
    "        for year in year_list:\n",
    "            results[experiment][\"minimum\"][location][year] = {}\n",
    "            results[experiment][\"first_q\"][location][year] = {}\n",
    "            results[experiment][\"average\"][location][year] = {}\n",
    "            results[experiment][\"third_q\"][location][year] = {}\n",
    "            results[experiment][\"maximum\"][location][year] = {}"
   ]
  },
  {
   "cell_type": "code",
   "execution_count": 9,
   "id": "4263ae52-f958-442f-b2ae-c52b3c97f750",
   "metadata": {
    "tags": []
   },
   "outputs": [],
   "source": [
    "# get min, avg and max downtimes\n",
    "for experiment in experiment_list:\n",
    "    for location in location_list:\n",
    "        for year in year_list:\n",
    "            dummy = []\n",
    "            for seed in seed_list:\n",
    "                dummy.append(results[experiment][seed][location][year]['downtimes'])\n",
    "            results[experiment][\"minimum\"][location][year]['downtimes'] = np.min(dummy)\n",
    "            results[experiment][\"first_q\"][location][year]['downtimes'] = np.percentile(dummy, 25)\n",
    "            results[experiment][\"average\"][location][year]['downtimes'] = np.mean(dummy)\n",
    "            results[experiment][\"third_q\"][location][year]['downtimes'] = np.percentile(dummy, 75)\n",
    "            results[experiment][\"maximum\"][location][year]['downtimes'] = np.max(dummy)\n",
    "\n",
    "# get min, avg and max avg_sense_reward\n",
    "for experiment in experiment_list:\n",
    "    for location in location_list:\n",
    "        for year in year_list:\n",
    "            dummy = []\n",
    "            for seed in seed_list:\n",
    "                avgsnsrwd = results[experiment][seed][location][year]['sense_reward_log'].mean()\n",
    "                results[experiment][seed][location][year]['avg_sense_reward'] = avgsnsrwd # add new entry\n",
    "                dummy.append(avgsnsrwd)\n",
    "            results[experiment][\"minimum\"][location][year]['avg_sense_reward'] = np.min(dummy)\n",
    "            results[experiment][\"first_q\"][location][year]['avg_sense_reward'] = np.percentile(dummy, 25)\n",
    "            results[experiment][\"average\"][location][year]['avg_sense_reward'] = np.mean(dummy)\n",
    "            results[experiment][\"third_q\"][location][year]['avg_sense_reward'] = np.percentile(dummy, 75)\n",
    "            results[experiment][\"maximum\"][location][year]['avg_sense_reward'] = np.max(dummy)\n",
    "\n",
    "# get min, avg and max avg_enp_reward\n",
    "for experiment in experiment_list:\n",
    "    for location in location_list:\n",
    "        for year in year_list:\n",
    "            dummy = []\n",
    "            for seed in seed_list:\n",
    "                avgenprwd = results[experiment][seed][location][year]['enp_reward_log'].mean()\n",
    "                results[experiment][seed][location][year]['avg_enp_reward'] = avgenprwd # add new entry\n",
    "                dummy.append(avgenprwd)\n",
    "            results[experiment][\"minimum\"][location][year]['avg_enp_reward'] = np.min(dummy)\n",
    "            results[experiment][\"first_q\"][location][year]['avg_enp_reward'] = np.percentile(dummy, 25)\n",
    "            results[experiment][\"average\"][location][year]['avg_enp_reward'] = np.mean(dummy)\n",
    "            results[experiment][\"third_q\"][location][year]['avg_enp_reward'] = np.percentile(dummy, 75)\n",
    "            results[experiment][\"maximum\"][location][year]['avg_enp_reward'] = np.max(dummy)"
   ]
  },
  {
   "cell_type": "code",
   "execution_count": 10,
   "id": "5d25a9f6-fe5f-4a0a-89b6-a256ee1e3fcd",
   "metadata": {
    "tags": []
   },
   "outputs": [
    {
     "name": "stdout",
     "output_type": "stream",
     "text": [
      "tokyo\n"
     ]
    },
    {
     "data": {
      "image/png": "[encoded data removed]",
      "text/plain": [
       "<Figure size 504x311.496 with 2 Axes>"
      ]
     },
     "metadata": {
      "needs_background": "light"
     },
     "output_type": "display_data"
    }
   ],
   "source": [
    "# Downtimes and Sense Rewards\n",
    "\n",
    "single_column_figure_width = 3.487\n",
    "double_column_figure_width = 7\n",
    "\n",
    "# fig_width = single_column_figure_width\n",
    "fig_width = double_column_figure_width\n",
    "fig_height = fig_width / 1.618\n",
    "\n",
    "fig, axs = plt.subplots(nrows=2,\n",
    "                        ncols=1,\n",
    "                        figsize=[fig_width,fig_height], # in inches\n",
    "                        sharex=True)\n",
    "plt.subplots_adjust(left=None, bottom=None, right=None, top=None, wspace=None, hspace=.05)\n",
    "\n",
    "#######################################################################################\n",
    "# # left  = 0.125  # the left side of the subplots of the figure\n",
    "# # right = 0.9    # the right side of the subplots of the figure\n",
    "# # bottom = 0.1   # the bottom of the subplots of the figure\n",
    "# # top = 0.9      # the top of the subplots of the figure\n",
    "# # wspace = 0.2   # the amount of width reserved for blank space between subplots\n",
    "# # hspace = 0.2   # the amount of height reserved for white space between subplots\n",
    "#######################################################################################\n",
    "\n",
    "sense_reward_ax  = axs[0]\n",
    "downtimes_ax = axs[1]\n",
    "\n",
    "location = 'tokyo'\n",
    "print(location)\n",
    "\n",
    "# avg_sense_reward\n",
    "for experiment in experiment_list:\n",
    "    min_data = [results[experiment][\"minimum\"][location][year]['avg_sense_reward'] for year in year_list]\n",
    "    qt1_data = [results[experiment][\"first_q\"][location][year]['avg_sense_reward'] for year in year_list]\n",
    "    avg_data = [results[experiment][\"average\"][location][year]['avg_sense_reward'] for year in year_list]\n",
    "    qt3_data = [results[experiment][\"third_q\"][location][year]['avg_sense_reward'] for year in year_list]\n",
    "    max_data = [results[experiment][\"maximum\"][location][year]['avg_sense_reward'] for year in year_list]\n",
    "\n",
    "    \n",
    "    sense_reward_ax.fill_between(year_list, y1=qt1_data, y2=qt3_data, color=experiment_color[experiment],alpha=0.2)\n",
    "    sense_reward_ax.plot(year_list, avg_data, \n",
    "                         color=experiment_color[experiment], \n",
    "                         label=experiment_label[experiment])\n",
    "    \n",
    "sense_reward_ax.text(0.035,0.5, 'sense-utility', \n",
    "         size='x-small', ha='center', va='center', \n",
    "        rotation='vertical',  transform=sense_reward_ax.transAxes)\n",
    "# sense_reward_ax.set_title('sense utility')\n",
    "# sense_reward_ax.set_ylabel('sense utility')    \n",
    "sense_reward_ax.legend(loc=\"lower left\",\n",
    "                       ncol=2,\n",
    "                       fontsize='x-small',\n",
    "                        bbox_to_anchor=(-0.02,0.95,1.04,1),\n",
    "                        mode=\"expand\",\n",
    "                       labelspacing=0.1,)\n",
    "sense_reward_ax.grid(which='major', axis='x', linestyle='--')\n",
    "\n",
    "# Downtimes\n",
    "for experiment in experiment_list:\n",
    "    min_data = [results[experiment][\"minimum\"][location][year]['downtimes'] for year in year_list]\n",
    "    qt1_data = [results[experiment][\"first_q\"][location][year]['downtimes'] for year in year_list]\n",
    "    avg_data = [results[experiment][\"average\"][location][year]['downtimes'] for year in year_list]\n",
    "    qt3_data = [results[experiment][\"third_q\"][location][year]['downtimes'] for year in year_list]\n",
    "    max_data = [results[experiment][\"maximum\"][location][year]['downtimes'] for year in year_list]\n",
    "    \n",
    "    width = 0.8/len(experiment_list)  # the width of the bars \n",
    "    xroot = np.array(year_list) # label locations\n",
    "    xoffset = -0.8/2 + experiment_list.index(experiment) \n",
    "    # IQR = Q3-Q1 = (Q3-AVG) + (AVG-Q1) So that we can anchor it at the average value\n",
    "    \n",
    "    yerr_min = np.array(avg_data) - np.array(qt1_data)\n",
    "    yerr_max = np.array(qt3_data) - np.array(avg_data)\n",
    "    downtimes_ax.bar(xroot+xoffset*width, avg_data,width, yerr = [yerr_min, yerr_max], \n",
    "                     color=experiment_color[experiment], \n",
    "                     label=experiment_label[experiment],\n",
    "                     error_kw=dict(ecolor='black', lw=1, capsize=0.5, capthick=width*0.5, alpha=0.2))\n",
    "\n",
    "downtimes_ax.set_xticks(year_list[::5])\n",
    "downtimes_ax.set_xticklabels(year_list[::5], rotation=0)\n",
    "\n",
    "downtimes_ax.text(0.15,0.85, 'Downtimes', \n",
    "                 size='x-small', ha=\"center\", \n",
    "                 transform=downtimes_ax.transAxes)\n",
    "# downtimes_ax.set_title('downtimes')\n",
    "# downtimes_ax.set_ylabel('downtimes')    \n",
    "# downtimes_ax.legend(loc=\"lower left\",\n",
    "#                    ncol=1,\n",
    "#                    bbox_to_anchor=(0,0.8,1,1))\n",
    "downtimes_ax.grid(which='major', axis='y', linestyle='--')\n",
    "\n",
    "fig_tag = \"compare-BC_constant\"\n",
    "fig_filename = \"../figures/\" + fig_tag +\".png\"\n",
    "# fig.savefig(fig_filename, dpi=300, bbox_inches='tight', transparent=True)"
   ]
  }
 ],
 "metadata": {
  "kernelspec": {
   "display_name": "Python 3 (ipykernel)",
   "language": "python",
   "name": "python3"
  },
  "language_info": {
   "codemirror_mode": {
    "name": "ipython",
    "version": 3
   },
   "file_extension": ".py",
   "mimetype": "text/x-python",
   "name": "python",
   "nbconvert_exporter": "python",
   "pygments_lexer": "ipython3",
   "version": "3.7.10"
  }
 },
 "nbformat": 4,
 "nbformat_minor": 5
}
