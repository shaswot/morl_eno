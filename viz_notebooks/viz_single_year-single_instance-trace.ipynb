{
 "cells": [
  {
   "cell_type": "code",
   "execution_count": 1,
   "id": "f146c082-5f23-4451-89ce-a810725129d0",
   "metadata": {},
   "outputs": [],
   "source": [
    "import numpy as np\n",
    "import os\n",
    "import matplotlib.pyplot as plt\n",
    "# plt.rc('xtick', labelsize=8)\n",
    "# plt.rc('ytick', labelsize=8)\n",
    "# plt.rc('axes', labelsize=8)\n",
    "\n",
    "import sys\n",
    "import pathlib\n",
    "\n",
    "# in jupyter (lab / notebook), based on notebook path\n",
    "module_path = str(pathlib.Path.cwd().parents[0] / \"py\")\n",
    "# # in standard python\n",
    "# module_path = str(pathlib.Path.cwd(__file__).parents[0] / \"common\")\n",
    "\n",
    "if module_path not in sys.path:\n",
    "    sys.path.append(module_path)\n",
    "\n",
    "import common.viz"
   ]
  },
  {
   "cell_type": "code",
   "execution_count": 2,
   "id": "569c2011-06c5-419e-9367-a9721bc07a74",
   "metadata": {},
   "outputs": [],
   "source": [
    "# Trace state variables, actions etc. \n",
    "# for a particular experiment instance\n",
    "\n",
    "env_name = \"sense\"\n",
    "timeslots_per_day = 24\n",
    "REQ_TYPE = \"random\"\n",
    "\n",
    "agent_name = \"schmitt\"\n",
    "agent_param = \"aahs\"\n",
    "seed = 20211229"
   ]
  },
  {
   "cell_type": "code",
   "execution_count": 3,
   "id": "f06380ce-b60d-40e9-9c35-9ec92ec5a7da",
   "metadata": {},
   "outputs": [],
   "source": [
    "root_folder = os.path.dirname(os.getcwd())\n",
    "\n",
    "# load trace file\n",
    "env_tag = env_name + '_t' + str(timeslots_per_day) + '_' + REQ_TYPE\n",
    "agent_tag = agent_name + '_' + agent_param\n",
    "\n",
    "# experiment tag\n",
    "# name of folder to save models and results\n",
    "experiment_type_tag = env_tag  + \"-\" + agent_tag\n",
    "experiment_instance_tag =  experiment_type_tag + '-' + str(seed)\n",
    "\n",
    "# Folder/file to load test results\n",
    "test_results_folder = os.path.join(root_folder,\"results\", experiment_type_tag, \"test\")\n",
    "assert os.path.exists(test_results_folder), \"'\" + test_results_folder + \"' folder does not exist\"\n",
    "test_log_file = os.path.join(test_results_folder, experiment_instance_tag + '-test.npy')   \n",
    "\n",
    "# Load data\n",
    "experiment_instance_result = np.load(test_log_file,allow_pickle='TRUE').item()    "
   ]
  },
  {
   "cell_type": "code",
   "execution_count": 4,
   "id": "a3a3fc44-c573-4ed9-b52b-fca5b8ce9035",
   "metadata": {},
   "outputs": [
    {
     "name": "stdout",
     "output_type": "stream",
     "text": [
      "Choose a location from:\t ['tokyo']\n",
      "Choose a year from:\t [1995, 1996, 1997, 1998, 1999, 2000, 2001, 2002, 2003, 2004, 2005, 2006, 2007, 2008, 2009, 2010, 2011, 2012, 2013, 2014, 2015, 2016, 2017]\n"
     ]
    }
   ],
   "source": [
    "first_level_keys = list(experiment_instance_result.keys())\n",
    "second_level_keys = list(experiment_instance_result[first_level_keys[0]].keys())\n",
    "third_level_keys = list(experiment_instance_result[first_level_keys[0]][second_level_keys[0]].keys())\n",
    "\n",
    "print(\"Choose a location from:\\t\", first_level_keys)\n",
    "print(\"Choose a year from:\\t\", second_level_keys)"
   ]
  },
  {
   "cell_type": "code",
   "execution_count": 5,
   "id": "4136d68a-59db-4216-98dc-da85a5f9d34d",
   "metadata": {},
   "outputs": [],
   "source": [
    "location = \"tokyo\"\n",
    "year = 1996"
   ]
  },
  {
   "cell_type": "code",
   "execution_count": 6,
   "id": "f93eda08-4e37-4539-9304-c9d0f1ba9822",
   "metadata": {},
   "outputs": [],
   "source": [
    "year_trace = experiment_instance_result[location][year]"
   ]
  },
  {
   "cell_type": "code",
   "execution_count": 9,
   "id": "1603f8db-651f-471a-a81e-313b0f57f95e",
   "metadata": {},
   "outputs": [
    {
     "data": {
      "image/png": "[encoded data removed]",
      "text/plain": [
       "<Figure size 1440x288 with 1 Axes>"
      ]
     },
     "execution_count": 9,
     "metadata": {},
     "output_type": "execute_result"
    }
   ],
   "source": [
    "fig = common.viz.sorl_plot(year_trace,\n",
    "                     timeslots_per_day,\n",
    "                     START_DAY=15,\n",
    "                     NO_OF_DAY_TO_PLOT=2,\n",
    "                     show_reward=not True,\n",
    "                     show_henergy=not True);\n",
    "fig.suptitle(env_name+\"-\"+agent_name+\"-\"+str(seed));\n",
    "fig"
   ]
  },
  {
   "cell_type": "code",
   "execution_count": null,
   "id": "b63b7276-4850-4124-acdf-a53a26d01382",
   "metadata": {},
   "outputs": [],
   "source": []
  }
 ],
 "metadata": {
  "kernelspec": {
   "display_name": "Python 3 (ipykernel)",
   "language": "python",
   "name": "python3"
  },
  "language_info": {
   "codemirror_mode": {
    "name": "ipython",
    "version": 3
   },
   "file_extension": ".py",
   "mimetype": "text/x-python",
   "name": "python",
   "nbconvert_exporter": "python",
   "pygments_lexer": "ipython3",
   "version": "3.7.10"
  }
 },
 "nbformat": 4,
 "nbformat_minor": 5
}
